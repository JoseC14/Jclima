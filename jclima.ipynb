{
 "cells": [
  {
   "cell_type": "markdown",
   "id": "cfc11ab0",
   "metadata": {},
   "source": [
    "Importação de Bibliotecas"
   ]
  },
  {
   "cell_type": "code",
   "execution_count": 1,
   "id": "063898f4",
   "metadata": {},
   "outputs": [],
   "source": [
    "from urllib.request import urlopen\n",
    "import json\n",
    "import csv\n",
    "import pandas as pd\n",
    "import matplotlib.pyplot as plt"
   ]
  },
  {
   "cell_type": "markdown",
   "id": "a5164c70",
   "metadata": {},
   "source": [
    "Pedido ao usuário para inserir a cidade"
   ]
  },
  {
   "cell_type": "code",
   "execution_count": 2,
   "id": "d5c8acd0",
   "metadata": {},
   "outputs": [
    {
     "name": "stdout",
     "output_type": "stream",
     "text": [
      "---------------------------------JC CLIMA-------------------------------\n",
      "Digite a cidade que você quer saber o clima nos proximos 8 dias\n",
      "Fortaleza\n"
     ]
    }
   ],
   "source": [
    "print(\"---------------------------------JC CLIMA-------------------------------\")\n",
    "\n",
    "print(\"Digite a cidade que você quer saber o clima nos proximos 8 dias\")\n",
    "\n",
    "cidade = str(input())"
   ]
  },
  {
   "cell_type": "markdown",
   "id": "96a8e1b9",
   "metadata": {},
   "source": [
    "Fazendo consulta na api"
   ]
  },
  {
   "cell_type": "code",
   "execution_count": 3,
   "id": "2e088a36",
   "metadata": {},
   "outputs": [],
   "source": [
    "response = urlopen(\"https://api.hgbrasil.com/weather?key=xxxxxxx&city_name=\"+cidade).read()\n",
    "dados = json.loads(response)\n",
    "previsao = dados['results']['forecast']"
   ]
  },
  {
   "cell_type": "code",
   "execution_count": 4,
   "id": "9dc3ad5d",
   "metadata": {},
   "outputs": [],
   "source": [
    "cabecalho = ('Data','Dia da Semana','Maxima','Minima', 'Umidade','Chuva', 'Prob. de Chuva','Velocidade do Vento','Clima')"
   ]
  },
  {
   "cell_type": "markdown",
   "id": "c52c96da",
   "metadata": {},
   "source": [
    "Percorrendo os dados e salvando em um csv"
   ]
  },
  {
   "cell_type": "code",
   "execution_count": 5,
   "id": "9c47d4bd",
   "metadata": {},
   "outputs": [
    {
     "name": "stdout",
     "output_type": "stream",
     "text": [
      "Salvando dados...\n",
      "Salvando dados...\n",
      "Salvando dados...\n",
      "Salvando dados...\n",
      "Salvando dados...\n",
      "Salvando dados...\n",
      "Salvando dados...\n",
      "Salvando dados...\n",
      "Salvando dados...\n",
      "Salvando dados...\n",
      "Dados salvos\n"
     ]
    }
   ],
   "source": [
    "with open(\"clima.csv\",\"w\") as arquivo:\n",
    "    writer = csv.writer(arquivo)\n",
    "    writer.writerow(cabecalho)\n",
    "    for dados in previsao:\n",
    "        writer.writerow((dados['date'],dados['weekday'],dados['max'],dados['min'],dados['cloudiness'],dados['rain'],\n",
    "                        dados['rain_probability'],dados['wind_speedy'],dados['description']))\n",
    "        print('Salvando dados...')\n",
    "    print(\"Dados salvos\")"
   ]
  },
  {
   "cell_type": "markdown",
   "id": "c873ec5f",
   "metadata": {},
   "source": [
    "Populando em uma tabela"
   ]
  },
  {
   "cell_type": "code",
   "execution_count": 6,
   "id": "47368738",
   "metadata": {},
   "outputs": [
    {
     "name": "stdout",
     "output_type": "stream",
     "text": [
      "    Data Dia da Semana  Maxima  Minima  Umidade  Chuva  Prob. de Chuva  \\\n",
      "0  05/05           Sex      29      25     24.0   1.17              77   \n",
      "1  06/05           Sáb      29      24     87.0   1.24              62   \n",
      "2  07/05           Dom      28      24     33.0   4.49              96   \n",
      "3  08/05           Seg      28      24     95.0   7.67              95   \n",
      "4  09/05           Ter      28      24     92.0   8.77              96   \n",
      "5  10/05           Qua      28      24     81.0   9.20              95   \n",
      "6  11/05           Qui      28      25     35.0   7.87              93   \n",
      "7  12/05           Sex      29      25     47.0   5.56              86   \n",
      "8  13/05           Sáb      27      24     61.0  14.97             100   \n",
      "9  14/05           Dom      27      25    100.0  20.99              99   \n",
      "\n",
      "  Velocidade do Vento            Clima  \n",
      "0            5.8 km/h  Chuvas esparsas  \n",
      "1           6.19 km/h  Chuvas esparsas  \n",
      "2            4.6 km/h  Chuvas esparsas  \n",
      "3           4.81 km/h  Chuvas esparsas  \n",
      "4           3.83 km/h            Chuva  \n",
      "5           4.03 km/h            Chuva  \n",
      "6           3.46 km/h  Chuvas esparsas  \n",
      "7            4.3 km/h  Chuvas esparsas  \n",
      "8           4.82 km/h            Chuva  \n",
      "9            6.7 km/h            Chuva  \n"
     ]
    }
   ],
   "source": [
    "df = pd.read_csv('clima.csv',encoding = 'unicode_escape')\n",
    "print(df)\n"
   ]
  },
  {
   "cell_type": "markdown",
   "id": "3d0fc02d",
   "metadata": {},
   "source": [
    "Mostrando a maior temperatura"
   ]
  },
  {
   "cell_type": "code",
   "execution_count": 7,
   "id": "a67e2e5d",
   "metadata": {},
   "outputs": [
    {
     "name": "stdout",
     "output_type": "stream",
     "text": [
      "29\n",
      "A maior incidencia de temperatura irá acontecer no dia(s) 05/05, 06/05, 12/05 com temperatura de 29\n"
     ]
    }
   ],
   "source": [
    "maxima = df['Maxima']\n",
    "\n",
    "tempmax = maxima.max()\n",
    "print(tempmax)\n",
    "tabeladiamax = df.loc[maxima == tempmax]\n",
    "diasmax       = tabeladiamax['Data']\n",
    "    \n",
    "print(\"A maior incidencia de temperatura irá acontecer no dia(s) \"+', '.join(str(dia) for dia in diasmax)+\" com temperatura de \"+str(tempmax))"
   ]
  },
  {
   "cell_type": "markdown",
   "id": "f57a3c2f",
   "metadata": {},
   "source": [
    "Mostrando a menor temperatura"
   ]
  },
  {
   "cell_type": "code",
   "execution_count": 8,
   "id": "31c1afd9",
   "metadata": {},
   "outputs": [
    {
     "name": "stdout",
     "output_type": "stream",
     "text": [
      "A menor incidencia de temperatura irá acontecer no dia(s) 06/05, 07/05, 08/05, 09/05, 10/05, 13/05 com temperatura de 24\n"
     ]
    }
   ],
   "source": [
    "minima       = df['Minima']\n",
    "tempmin      = minima.min()\n",
    "tabeladiamin = df.loc[minima == tempmin]\n",
    "diasmin      = tabeladiamin['Data']\n",
    "print(\"A menor incidencia de temperatura irá acontecer no dia(s) \"+\", \".join(str(dia) for dia in diasmin)+ \" com temperatura de \"+str(tempmin))"
   ]
  },
  {
   "cell_type": "markdown",
   "id": "76bcfe46",
   "metadata": {},
   "source": [
    "gravando os dados dos gráficos em uma lista"
   ]
  },
  {
   "cell_type": "code",
   "execution_count": 9,
   "id": "d63700de",
   "metadata": {},
   "outputs": [],
   "source": [
    "graficotempmax = [dados['max'] for dados in previsao]\n",
    "graficotempmin = [dados['min'] for dados in previsao]\n",
    "graficodias    = [dados['date'] for dados in previsao]"
   ]
  },
  {
   "cell_type": "markdown",
   "id": "8b0a2a26",
   "metadata": {},
   "source": [
    "Plotando o gráfico"
   ]
  },
  {
   "cell_type": "code",
   "execution_count": 10,
   "id": "59847dd5",
   "metadata": {},
   "outputs": [
    {
     "data": {
      "image/png": "[encoded data removed]",
      "text/plain": [
       "<Figure size 640x480 with 1 Axes>"
      ]
     },
     "metadata": {},
     "output_type": "display_data"
    }
   ],
   "source": [
    "\n",
    "plt.plot(graficodias,graficotempmax,label='Máxima',color='Red')\n",
    "plt.plot(graficodias,graficotempmin,label='Minima',color='Blue')\n",
    "plt.xlabel('Data')\n",
    "plt.ylabel('Temperatura')\n",
    "plt.legend()\n",
    "plt.show()"
   ]
  }
 ],
 "metadata": {
  "kernelspec": {
   "display_name": "Python 3 (ipykernel)",
   "language": "python",
   "name": "python3"
  },
  "language_info": {
   "codemirror_mode": {
    "name": "ipython",
    "version": 3
   },
   "file_extension": ".py",
   "mimetype": "text/x-python",
   "name": "python",
   "nbconvert_exporter": "python",
   "pygments_lexer": "ipython3",
   "version": "3.10.9"
  }
 },
 "nbformat": 4,
 "nbformat_minor": 5
}
